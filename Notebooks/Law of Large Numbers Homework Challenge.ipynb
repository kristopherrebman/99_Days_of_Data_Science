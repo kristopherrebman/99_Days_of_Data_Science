{
 "cells": [
  {
   "cell_type": "markdown",
   "id": "a8873e6e",
   "metadata": {},
   "source": [
    "# The Challenge...\n",
    "\n",
    "Test the law of large numbers for N random normally distributed numbers with a mean = 0, stdev = 1:\n",
    "\n",
    "Create a script that will count how many of these numbers fall between -1 and 1 and divide by the total quantity N.\n",
    "\n",
    "We know that 68.2% of a normal distribution falls within 1 standard deviation of the mean, we expect that the higher the value of N, the closer our result will get to 68.2%."
   ]
  },
  {
   "cell_type": "code",
   "execution_count": 1,
   "id": "8c34e691",
   "metadata": {
    "ExecuteTime": {
     "end_time": "2021-11-24T23:37:14.125819Z",
     "start_time": "2021-11-24T23:37:12.898670Z"
    }
   },
   "outputs": [],
   "source": [
    "from numpy.random import randn"
   ]
  },
  {
   "cell_type": "code",
   "execution_count": 2,
   "id": "7ebe26c3",
   "metadata": {
    "ExecuteTime": {
     "end_time": "2021-11-24T23:37:19.191773Z",
     "start_time": "2021-11-24T23:37:19.172784Z"
    }
   },
   "outputs": [
    {
     "name": "stdout",
     "output_type": "stream",
     "text": [
      "7\n",
      "10\n",
      "0.7\n"
     ]
    }
   ],
   "source": [
    "n = 10\n",
    "m = 0\n",
    "\n",
    "for i in range(n):\n",
    "    x = randn()\n",
    "    if x > -1 and  x < 1:\n",
    "        m += 1\n",
    "\n",
    "print(m)\n",
    "print(n)\n",
    "print(m/n)       "
   ]
  },
  {
   "cell_type": "code",
   "execution_count": 3,
   "id": "8bbf88ce",
   "metadata": {
    "ExecuteTime": {
     "end_time": "2021-11-24T23:37:22.683904Z",
     "start_time": "2021-11-24T23:37:22.675921Z"
    }
   },
   "outputs": [
    {
     "name": "stdout",
     "output_type": "stream",
     "text": [
      "73\n",
      "100\n",
      "0.73\n"
     ]
    }
   ],
   "source": [
    "n = 100\n",
    "m = 0\n",
    "\n",
    "for i in range(n):\n",
    "    x = randn()\n",
    "    if x > -1 and  x < 1:\n",
    "        m += 1\n",
    "\n",
    "print(m)\n",
    "print(n)\n",
    "print(m/n)    "
   ]
  },
  {
   "cell_type": "code",
   "execution_count": 4,
   "id": "e1cf5dcc",
   "metadata": {
    "ExecuteTime": {
     "end_time": "2021-11-24T23:37:25.294364Z",
     "start_time": "2021-11-24T23:37:25.285352Z"
    }
   },
   "outputs": [
    {
     "name": "stdout",
     "output_type": "stream",
     "text": [
      "670\n",
      "1000\n",
      "0.67\n"
     ]
    }
   ],
   "source": [
    "n = 1000\n",
    "m = 0\n",
    "\n",
    "for i in range(n):\n",
    "    x = randn()\n",
    "    if x > -1 and  x < 1:\n",
    "        m += 1\n",
    "\n",
    "print(m)\n",
    "print(n)\n",
    "print(m/n)    "
   ]
  },
  {
   "cell_type": "code",
   "execution_count": 5,
   "id": "039f87be",
   "metadata": {
    "ExecuteTime": {
     "end_time": "2021-11-24T23:37:29.346026Z",
     "start_time": "2021-11-24T23:37:29.323087Z"
    }
   },
   "outputs": [
    {
     "name": "stdout",
     "output_type": "stream",
     "text": [
      "6847\n",
      "10000\n",
      "0.6847\n"
     ]
    }
   ],
   "source": [
    "n = 10000\n",
    "m = 0\n",
    "\n",
    "for i in range(n):\n",
    "    x = randn()\n",
    "    if x > -1 and  x < 1:\n",
    "        m += 1\n",
    "\n",
    "print(m)\n",
    "print(n)\n",
    "print(m/n)    "
   ]
  },
  {
   "cell_type": "code",
   "execution_count": 6,
   "id": "be71902b",
   "metadata": {
    "ExecuteTime": {
     "end_time": "2021-11-24T23:37:34.062785Z",
     "start_time": "2021-11-24T23:37:33.935847Z"
    }
   },
   "outputs": [
    {
     "name": "stdout",
     "output_type": "stream",
     "text": [
      "68316\n",
      "100000\n",
      "0.68316\n"
     ]
    }
   ],
   "source": [
    "n = 100000\n",
    "m = 0\n",
    "\n",
    "for i in range(n):\n",
    "    x = randn()\n",
    "    if x > -1 and  x < 1:\n",
    "        m += 1\n",
    "\n",
    "print(m)\n",
    "print(n)\n",
    "print(m/n)    "
   ]
  },
  {
   "cell_type": "code",
   "execution_count": 7,
   "id": "f470e26c",
   "metadata": {
    "ExecuteTime": {
     "end_time": "2021-11-24T23:37:47.957121Z",
     "start_time": "2021-11-24T23:37:47.126264Z"
    }
   },
   "outputs": [
    {
     "name": "stdout",
     "output_type": "stream",
     "text": [
      "682844\n",
      "1000000\n",
      "0.682844\n"
     ]
    }
   ],
   "source": [
    "n = 1000000\n",
    "m = 0\n",
    "\n",
    "for i in range(n):\n",
    "    x = randn()\n",
    "    if x > -1 and  x < 1:\n",
    "        m += 1\n",
    "\n",
    "print(m)\n",
    "print(n)\n",
    "print(m/n)    "
   ]
  },
  {
   "cell_type": "markdown",
   "id": "46a5142a",
   "metadata": {},
   "source": [
    "---"
   ]
  }
 ],
 "metadata": {
  "kernelspec": {
   "display_name": "Python 3 (ipykernel)",
   "language": "python",
   "name": "python3"
  },
  "language_info": {
   "codemirror_mode": {
    "name": "ipython",
    "version": 3
   },
   "file_extension": ".py",
   "mimetype": "text/x-python",
   "name": "python",
   "nbconvert_exporter": "python",
   "pygments_lexer": "ipython3",
   "version": "3.8.12"
  }
 },
 "nbformat": 4,
 "nbformat_minor": 5
}
