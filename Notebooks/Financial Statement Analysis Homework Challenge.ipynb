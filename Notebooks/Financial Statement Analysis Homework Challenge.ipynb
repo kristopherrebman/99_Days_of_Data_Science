{
 "cells": [
  {
   "cell_type": "markdown",
   "id": "677f26af",
   "metadata": {},
   "source": [
    "# The Challenge...\n",
    "\n",
    "Scenario: You are a Data Scientist working for a consulting ﬁrm. One of your colleagues from the Auditing department has asked you to help them assess the ﬁnancial statement of organisation X.\n",
    "\n",
    "You have been supplied with two lists of data: monthly revenue and monthly ex-penses for the ﬁnancial year in question. Your task is to calculate the following ﬁnancial metrics:\n",
    "-\tproﬁt for each month\n",
    "-\tproﬁt after tax for each month (the tax rate is 30%)\n",
    "-\tproﬁt margin for each month - equals to proﬁt after tax divided by revenue\n",
    "-\tgood months - where the proﬁt after tax was greater than the mean for the year\n",
    "-\tbad months - where the proﬁt after tax was less than the mean for the year\n",
    "-\tthe best month - where the proﬁt after tax was max for the year\n",
    "-\tthe worst month - where the proﬁt after tax was min for the year\n",
    "\n",
    "All results need to be presented as lists.\n",
    "\n",
    "Results for dollar values need to be calculated with \\\\$0.01 precision, but need to be presented in Units of \\\\$1,000 (i.e. 1k) with no decimal points.\n",
    "\n",
    "Results for the proﬁt margin ratio need to be presented in units of % with no decimal points.\n",
    "\n",
    "Note: Your colleague has warned you that it is okay for tax for any given month to be negative (in accounting terms, negative tax translates into a deferred tax asset)."
   ]
  },
  {
   "cell_type": "code",
   "execution_count": 1,
   "id": "4c2c1233",
   "metadata": {
    "ExecuteTime": {
     "end_time": "2021-11-25T16:24:31.613399Z",
     "start_time": "2021-11-25T16:24:31.590425Z"
    }
   },
   "outputs": [],
   "source": [
    "#Data \n",
    "revenue = [14574.49, 7606.46, 8611.41, 9175.41, 8058.65, 8105.44, 11496.28, 9766.09, 10305.32, 14379.96, 10713.97, 15433.50]\n",
    "expenses = [12051.82, 5695.07, 12319.20, 12089.72, 8658.57, 840.20, 3285.73, 5821.12, 6976.93, 16618.61, 10054.37, 3803.96]"
   ]
  },
  {
   "cell_type": "markdown",
   "id": "afc2897e",
   "metadata": {},
   "source": [
    "### Profit for Each Month (Revenue - Expenses)"
   ]
  },
  {
   "cell_type": "code",
   "execution_count": 2,
   "id": "c9555eb4",
   "metadata": {
    "ExecuteTime": {
     "end_time": "2021-11-25T16:24:31.629319Z",
     "start_time": "2021-11-25T16:24:31.617348Z"
    }
   },
   "outputs": [
    {
     "name": "stdout",
     "output_type": "stream",
     "text": [
      "3k, 2k, -4k, -3k, -1k, 7k, 8k, 4k, 3k, -2k, 1k, 12k\n"
     ]
    }
   ],
   "source": [
    "#Formatted in thousands\n",
    "profit = []\n",
    "\n",
    "for i in range(len(revenue)):\n",
    "    profit.append(revenue[i]-expenses[i]) \n",
    "      \n",
    "print(\", \".join(f\"{(k/1000):.0f}k\".format(k) for k in profit))"
   ]
  },
  {
   "cell_type": "code",
   "execution_count": 3,
   "id": "a3d701d7",
   "metadata": {
    "ExecuteTime": {
     "end_time": "2021-11-25T16:24:31.645274Z",
     "start_time": "2021-11-25T16:24:31.631310Z"
    }
   },
   "outputs": [
    {
     "name": "stdout",
     "output_type": "stream",
     "text": [
      "2523, 1911, -3708, -2914, -600, 7265, 8211, 3945, 3328, -2239, 660, 11630\n"
     ]
    }
   ],
   "source": [
    "#Formatted to single dollar\n",
    "print(\", \".join(f\"{(k):.0f}\".format(k) for k in profit))"
   ]
  },
  {
   "cell_type": "markdown",
   "id": "ad8adb25",
   "metadata": {
    "ExecuteTime": {
     "end_time": "2021-11-25T00:10:49.048607Z",
     "start_time": "2021-11-25T00:10:49.026661Z"
    }
   },
   "source": [
    "## Profit After Tax for Each Month"
   ]
  },
  {
   "cell_type": "code",
   "execution_count": 4,
   "id": "56a8a11c",
   "metadata": {
    "ExecuteTime": {
     "end_time": "2021-11-25T16:24:31.661230Z",
     "start_time": "2021-11-25T16:24:31.649263Z"
    }
   },
   "outputs": [
    {
     "name": "stdout",
     "output_type": "stream",
     "text": [
      "1766, 1338, -2595, -2040, -420, 5086, 5747, 2761, 2330, -1567, 462, 8141\n"
     ]
    }
   ],
   "source": [
    "#Formatted to single dollar\n",
    "tax = [round(i*0.3, 2) for i in profit]\n",
    "\n",
    "profit_after_tax = []\n",
    "\n",
    "for i in range(len(tax)):\n",
    "    profit_after_tax.append(profit[i]-tax[i])\n",
    "    \n",
    "print(\", \".join(f\"{(k):.0f}\".format(k) for k in profit_after_tax))"
   ]
  },
  {
   "cell_type": "markdown",
   "id": "b298753b",
   "metadata": {},
   "source": [
    "## Profit Margin (%, After Tax) by Month"
   ]
  },
  {
   "cell_type": "code",
   "execution_count": 5,
   "id": "6e7737ad",
   "metadata": {
    "ExecuteTime": {
     "end_time": "2021-11-25T16:24:31.677249Z",
     "start_time": "2021-11-25T16:24:31.667274Z"
    }
   },
   "outputs": [
    {
     "name": "stdout",
     "output_type": "stream",
     "text": [
      "12%, 18%, -30%, -22%, -5%, 63%, 50%, 28%, 23%, -11%, 4%, 53%\n"
     ]
    }
   ],
   "source": [
    "profit_margin = []\n",
    "\n",
    "for i in range(len(profit_after_tax)):\n",
    "    profit_margin.append((profit_after_tax[i]/revenue[i])*100)\n",
    "\n",
    "print(\", \".join(f\"{(k):.0f}%\".format(k) for k in profit_margin))"
   ]
  },
  {
   "cell_type": "markdown",
   "id": "facded02",
   "metadata": {},
   "source": [
    "## Good Months (> Mean Profit-After-Tax)"
   ]
  },
  {
   "cell_type": "code",
   "execution_count": 6,
   "id": "17b634f3",
   "metadata": {
    "ExecuteTime": {
     "end_time": "2021-11-25T16:24:31.693200Z",
     "start_time": "2021-11-25T16:24:31.682230Z"
    }
   },
   "outputs": [
    {
     "name": "stdout",
     "output_type": "stream",
     "text": [
      "[True, False, False, False, False, True, True, True, True, False, False, True]\n"
     ]
    }
   ],
   "source": [
    "mean_profit_after_tax = sum(profit_after_tax)/len(profit_after_tax)\n",
    "\n",
    "good_months = []\n",
    "\n",
    "for i in range(len(profit_after_tax)):\n",
    "    good_months.append(profit_after_tax[i] > mean_profit_after_tax)\n",
    "                       \n",
    "print(good_months)"
   ]
  },
  {
   "cell_type": "markdown",
   "id": "435431eb",
   "metadata": {},
   "source": [
    "## Bad Months (< Mean Profit-After-Tax)"
   ]
  },
  {
   "cell_type": "code",
   "execution_count": 7,
   "id": "64308f8f",
   "metadata": {
    "ExecuteTime": {
     "end_time": "2021-11-25T16:24:31.724119Z",
     "start_time": "2021-11-25T16:24:31.699184Z"
    }
   },
   "outputs": [
    {
     "name": "stdout",
     "output_type": "stream",
     "text": [
      "[False, True, True, True, True, False, False, False, False, True, True, False]\n"
     ]
    }
   ],
   "source": [
    "# Standard Method\n",
    "bad_months = []\n",
    "\n",
    "for i in range(len(profit_after_tax)):\n",
    "    bad_months.append(profit_after_tax[i] < mean_profit_after_tax)\n",
    "                       \n",
    "print(bad_months)"
   ]
  },
  {
   "cell_type": "code",
   "execution_count": 8,
   "id": "8adbaf78",
   "metadata": {
    "ExecuteTime": {
     "end_time": "2021-11-25T16:24:31.740074Z",
     "start_time": "2021-11-25T16:24:31.727109Z"
    }
   },
   "outputs": [
    {
     "name": "stdout",
     "output_type": "stream",
     "text": [
      "[False, True, True, True, True, False, False, False, False, True, True, False]\n"
     ]
    }
   ],
   "source": [
    "# Fun Method\n",
    "bad_months2 = [not i for i in good_months]\n",
    "print(bad_months2)"
   ]
  },
  {
   "cell_type": "markdown",
   "id": "0469ac8d",
   "metadata": {},
   "source": [
    "## Best Month"
   ]
  },
  {
   "cell_type": "code",
   "execution_count": 9,
   "id": "c2f04075",
   "metadata": {
    "ExecuteTime": {
     "end_time": "2021-11-25T16:24:31.755034Z",
     "start_time": "2021-11-25T16:24:31.743072Z"
    }
   },
   "outputs": [
    {
     "name": "stdout",
     "output_type": "stream",
     "text": [
      "[False, False, False, False, False, False, False, False, False, False, False, True]\n"
     ]
    }
   ],
   "source": [
    "best_month = []\n",
    "\n",
    "for i in range(len(profit_after_tax)):\n",
    "    best_month.append(profit_after_tax[i] == max(profit_after_tax))\n",
    "                       \n",
    "print(best_month)"
   ]
  },
  {
   "cell_type": "markdown",
   "id": "d22ed786",
   "metadata": {},
   "source": [
    "## Worst Month"
   ]
  },
  {
   "cell_type": "code",
   "execution_count": 10,
   "id": "39302137",
   "metadata": {
    "ExecuteTime": {
     "end_time": "2021-11-25T16:24:31.784953Z",
     "start_time": "2021-11-25T16:24:31.757029Z"
    }
   },
   "outputs": [
    {
     "name": "stdout",
     "output_type": "stream",
     "text": [
      "[False, False, True, False, False, False, False, False, False, False, False, False]\n"
     ]
    }
   ],
   "source": [
    "worst_month = []\n",
    "\n",
    "for i in range(len(profit_after_tax)):\n",
    "    worst_month.append(profit_after_tax[i] == min(profit_after_tax))\n",
    "                       \n",
    "print(worst_month)"
   ]
  },
  {
   "cell_type": "markdown",
   "id": "791f02ac",
   "metadata": {},
   "source": [
    "## Present Results"
   ]
  },
  {
   "cell_type": "code",
   "execution_count": 11,
   "id": "17fe4c47",
   "metadata": {
    "ExecuteTime": {
     "end_time": "2021-11-25T16:24:31.800912Z",
     "start_time": "2021-11-25T16:24:31.786948Z"
    }
   },
   "outputs": [],
   "source": [
    "def thou(x):\n",
    "    return(round(i/1000, 2) for i in x)\n"
   ]
  },
  {
   "cell_type": "code",
   "execution_count": 12,
   "id": "374a6a58",
   "metadata": {
    "ExecuteTime": {
     "end_time": "2021-11-25T16:24:31.848783Z",
     "start_time": "2021-11-25T16:24:31.809886Z"
    }
   },
   "outputs": [
    {
     "name": "stdout",
     "output_type": "stream",
     "text": [
      "Revenue:\n",
      "15, 8, 9, 9, 8, 8, 12, 10, 10, 14, 11, 15\n",
      "Expenses:\n",
      "12, 6, 12, 12, 9, 1, 3, 6, 7, 17, 10, 4\n",
      "Profit:\n",
      "3, 2, -4, -3, -1, 7, 8, 4, 3, -2, 1, 12\n",
      "Profit (After Tax):\n",
      "2, 1, -3, -2, -0, 5, 6, 3, 2, -2, 0, 8\n",
      "Profit Margin:\n",
      "12%, 18%, -30%, -22%, -5%, 63%, 50%, 28%, 23%, -11%, 4%, 53%\n",
      "Good Months:\n",
      "[True, False, False, False, False, True, True, True, True, False, False, True]\n",
      "Bad Months:\n",
      "[False, True, True, True, True, False, False, False, False, True, True, False]\n",
      "Best Month:\n",
      "[False, False, False, False, False, False, False, False, False, False, False, True]\n",
      "Worst Month:\n",
      "[False, False, True, False, False, False, False, False, False, False, False, False]\n"
     ]
    }
   ],
   "source": [
    "print(\"Revenue:\")\n",
    "print(\", \".join(f\"{(k):.0f}\".format(k) for k in thou(revenue)))\n",
    "print(\"Expenses:\")\n",
    "print(\", \".join(f\"{(k):.0f}\".format(k) for k in thou(expenses)))\n",
    "print(\"Profit:\")\n",
    "print(\", \".join(f\"{(k):.0f}\".format(k) for k in thou(profit)))\n",
    "print(\"Profit (After Tax):\")\n",
    "print(\", \".join(f\"{(k):.0f}\".format(k) for k in thou(profit_after_tax)))\n",
    "print(\"Profit Margin:\")\n",
    "print(\", \".join(f\"{(k):.0f}%\".format(k) for k in profit_margin))\n",
    "print(\"Good Months:\")\n",
    "print(good_months)\n",
    "print(\"Bad Months:\")\n",
    "print(bad_months)\n",
    "print(\"Best Month:\")\n",
    "print(best_month)\n",
    "print(\"Worst Month:\")\n",
    "print(worst_month)"
   ]
  },
  {
   "cell_type": "code",
   "execution_count": null,
   "id": "c43debcc",
   "metadata": {},
   "outputs": [],
   "source": []
  }
 ],
 "metadata": {
  "kernelspec": {
   "display_name": "Python 3 (ipykernel)",
   "language": "python",
   "name": "python3"
  },
  "language_info": {
   "codemirror_mode": {
    "name": "ipython",
    "version": 3
   },
   "file_extension": ".py",
   "mimetype": "text/x-python",
   "name": "python",
   "nbconvert_exporter": "python",
   "pygments_lexer": "ipython3",
   "version": "3.8.12"
  }
 },
 "nbformat": 4,
 "nbformat_minor": 5
}
